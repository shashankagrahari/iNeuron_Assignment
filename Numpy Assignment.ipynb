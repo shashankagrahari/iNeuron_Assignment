{
 "cells": [
  {
   "cell_type": "markdown",
   "metadata": {},
   "source": [
    "Question: Write a function to find moving average in an array over a window:          Test it over [3, 5, 7, 2, 8, 10, 11, 65, 72, 81, 99, 100, 150] and window of 3. "
   ]
  },
  {
   "cell_type": "code",
   "execution_count": 8,
   "metadata": {},
   "outputs": [],
   "source": [
    "def mov_avg_val(mylist, N):\n",
    "    cumsum, moving_aves = [0], []\n",
    "    for i, x in enumerate(mylist, 1):\n",
    "        cumsum.append(cumsum[i-1] + x) # summing up all the values one by one and appending the list\n",
    "      \n",
    "        if i>=N:\n",
    "            moving_ave = round(((cumsum[i] - cumsum[i-N])/N),2)\n",
    "            moving_aves.append(moving_ave) \n",
    "    print(\"Moving average values list: \", moving_aves)\n",
    "    print(\"Length of the list l-N+1: \", len(moving_aves))"
   ]
  },
  {
   "cell_type": "code",
   "execution_count": 12,
   "metadata": {},
   "outputs": [
    {
     "name": "stdout",
     "output_type": "stream",
     "text": [
      "Moving average values list:  [20.0, 30.0, 40.0, 50.0, 60.0, 70.0, 80.0, 90.0]\n",
      "Length of the list l-N+1:  8\n"
     ]
    }
   ],
   "source": [
    "mov_avg_val([10,20,30,40,50,60,70,80,90,100],3)"
   ]
  },
  {
   "cell_type": "code",
   "execution_count": null,
   "metadata": {},
   "outputs": [],
   "source": []
  }
 ],
 "metadata": {
  "kernelspec": {
   "display_name": "Python 3",
   "language": "python",
   "name": "python3"
  },
  "language_info": {
   "codemirror_mode": {
    "name": "ipython",
    "version": 3
   },
   "file_extension": ".py",
   "mimetype": "text/x-python",
   "name": "python",
   "nbconvert_exporter": "python",
   "pygments_lexer": "ipython3",
   "version": "3.7.4"
  }
 },
 "nbformat": 4,
 "nbformat_minor": 2
}
