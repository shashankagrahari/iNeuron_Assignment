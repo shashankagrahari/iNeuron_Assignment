{
 "cells": [
  {
   "cell_type": "markdown",
   "metadata": {},
   "source": [
    "## TASK 1"
   ]
  },
  {
   "cell_type": "markdown",
   "metadata": {},
   "source": [
    "##### 1.1) To make my own reduce function"
   ]
  },
  {
   "cell_type": "code",
   "execution_count": 1,
   "metadata": {},
   "outputs": [
    {
     "name": "stdout",
     "output_type": "stream",
     "text": [
      "Enter the product price:- 67 40 30 3\n",
      "140\n"
     ]
    }
   ],
   "source": [
    "def myadd(fir_ele,sec_ele):\n",
    "    return fir_ele+sec_ele\n",
    "def myreduce(fun,arr):\n",
    "    result=0\n",
    "    for i in range(0,len(arr)):\n",
    "        result=fun(arr[i],result)\n",
    "    return result\n",
    "arr=list(map(int,input(\"Enter the product price:- \").split()))\n",
    "totalsum=myreduce(myadd,arr)\n",
    "print(totalsum)"
   ]
  },
  {
   "cell_type": "markdown",
   "metadata": {},
   "source": [
    "##### 1.2) To implement my own filter function\n",
    "I am counting total price of product that are above 50 rupees."
   ]
  },
  {
   "cell_type": "code",
   "execution_count": 6,
   "metadata": {},
   "outputs": [
    {
     "name": "stdout",
     "output_type": "stream",
     "text": [
      "Enter the price of each product:- 56 100 4\n",
      "156\n"
     ]
    }
   ],
   "source": [
    "def checker(number):\n",
    "    if number > 50: return True\n",
    "    else: return False\n",
    "def myfilter(fun,arr):\n",
    "    totalsum=0\n",
    "    for i in range(0,len(arr)):\n",
    "        result=fun(arr[i])\n",
    "        if result:\n",
    "            totalsum+=arr[i]\n",
    "    return totalsum\n",
    "arr=list(map(int,input(\"Enter the price of each product:- \").split()))\n",
    "finalcost=myfilter(checker,arr)\n",
    "print(finalcost)"
   ]
  },
  {
   "cell_type": "markdown",
   "metadata": {},
   "source": [
    "##### 2)To implement list comprehension"
   ]
  },
  {
   "cell_type": "code",
   "execution_count": 24,
   "metadata": {
    "scrolled": true
   },
   "outputs": [
    {
     "name": "stdout",
     "output_type": "stream",
     "text": [
      "['A', 'C', 'A', 'D', 'G', 'I', 'L', 'D']\n"
     ]
    }
   ],
   "source": [
    "str1=\"acadgild\"\n",
    "list1=[i.upper() for i in str1]\n",
    "print(list1)"
   ]
  },
  {
   "cell_type": "code",
   "execution_count": 25,
   "metadata": {},
   "outputs": [
    {
     "name": "stdout",
     "output_type": "stream",
     "text": [
      "['x', 'xx', 'xxx', 'xxxx', 'y', 'yy', 'yyy', 'yyyy', 'z', 'zz', 'zzz', 'zzzz']\n"
     ]
    }
   ],
   "source": [
    "strings=['x','y','z']\n",
    "list1=[ i*j for i in strings for j in range(1,5)]\n",
    "print(list1)"
   ]
  },
  {
   "cell_type": "code",
   "execution_count": 35,
   "metadata": {},
   "outputs": [
    {
     "name": "stdout",
     "output_type": "stream",
     "text": [
      "['x', 'y', 'z', 'xx', 'yy', 'zz', 'xxx', 'yyy', 'zzz', 'xxxx', 'yyyy', 'zzzz']\n"
     ]
    }
   ],
   "source": [
    "strings=['x','y','z']\n",
    "list1=[ i*j for i in range(1,5) for j in strings]\n",
    "print(list1)"
   ]
  },
  {
   "cell_type": "code",
   "execution_count": 43,
   "metadata": {
    "scrolled": false
   },
   "outputs": [
    {
     "data": {
      "text/plain": [
       "[[2], [3], [4], [3], [4], [5], [4], [5], [6]]"
      ]
     },
     "execution_count": 43,
     "metadata": {},
     "output_type": "execute_result"
    }
   ],
   "source": [
    "number=[2,3,4,3,4,5,4,5,6]\n",
    "list1=[[number[i]] for i in range(0,len(number))]\n",
    "list1"
   ]
  },
  {
   "cell_type": "code",
   "execution_count": 46,
   "metadata": {},
   "outputs": [
    {
     "data": {
      "text/plain": [
       "[[2, 3, 4, 5], [3, 4, 5, 6], [4, 5, 6, 7], [5, 6, 7, 8]]"
      ]
     },
     "execution_count": 46,
     "metadata": {},
     "output_type": "execute_result"
    }
   ],
   "source": [
    "numbers=[2,3,4,5,6,7,8]\n",
    "list1=[numbers[i:i+4] for i in range(0,4)]\n",
    "list1"
   ]
  },
  {
   "cell_type": "code",
   "execution_count": 24,
   "metadata": {},
   "outputs": [
    {
     "data": {
      "text/plain": [
       "[(1, 1), (2, 1), (3, 1), (1, 2), (2, 2), (3, 2), (1, 3), (2, 3), (3, 3)]"
      ]
     },
     "execution_count": 24,
     "metadata": {},
     "output_type": "execute_result"
    }
   ],
   "source": [
    "nums=[1,2,3]\n",
    "list1=[(nums[k],nums[i]) for i in range(0,len(nums)) for k in range(0,len(nums))]\n",
    "list1"
   ]
  },
  {
   "cell_type": "markdown",
   "metadata": {},
   "source": [
    "##### 3)Implement a function longestWord() that takes a list of words and returns the longest one"
   ]
  },
  {
   "cell_type": "code",
   "execution_count": 28,
   "metadata": {},
   "outputs": [
    {
     "name": "stdout",
     "output_type": "stream",
     "text": [
      "Enter your words:- this is solution to assignment\n",
      "assignment\n"
     ]
    }
   ],
   "source": [
    "def longestWord(words):\n",
    "    newlist=[]\n",
    "    for i in words:\n",
    "        newlist.append(len(i))\n",
    "    ind=newlist.index(max(newlist))\n",
    "    return words[ind]\n",
    "words=list(input(\"Enter your words:- \").split(\" \"))\n",
    "result=longestWord(words)\n",
    "print(result)"
   ]
  },
  {
   "cell_type": "markdown",
   "metadata": {},
   "source": [
    "## TASK 2"
   ]
  },
  {
   "cell_type": "markdown",
   "metadata": {},
   "source": [
    "##### 1.1)Area of triangle"
   ]
  },
  {
   "cell_type": "code",
   "execution_count": 12,
   "metadata": {},
   "outputs": [
    {
     "name": "stdout",
     "output_type": "stream",
     "text": [
      "Enter the sides a b c:- 5 6 7\n"
     ]
    },
    {
     "data": {
      "text/plain": [
       "108.0"
      ]
     },
     "execution_count": 12,
     "metadata": {},
     "output_type": "execute_result"
    }
   ],
   "source": [
    "class Parent():\n",
    "    def __init__(self):\n",
    "        list1=list(map(int,input(\"Enter the sides a b c:- \").split()))\n",
    "        self.a,self.b,self.c=list1[0],list1[1],list1[2]\n",
    "        \n",
    "class Child(Parent):\n",
    "    def __init__(self):\n",
    "        super().__init__()\n",
    "        \n",
    "    def calc(self):\n",
    "\n",
    "        s=(self.a+self.b+self.c)/2\n",
    "        self.area = (s*(s-self.a)*(s-self.b)*(s-self.c)) * 0.5\n",
    "        return self.area\n",
    "    \n",
    "c=Child()\n",
    "c.calc()\n"
   ]
  },
  {
   "cell_type": "markdown",
   "metadata": {},
   "source": [
    "##### 1.2)filter_long_words()"
   ]
  },
  {
   "cell_type": "code",
   "execution_count": 14,
   "metadata": {},
   "outputs": [
    {
     "name": "stdout",
     "output_type": "stream",
     "text": [
      "Enter your words:- hii there i am shashank your friend\n",
      "Enter the length of the words you want:-4\n"
     ]
    },
    {
     "data": {
      "text/plain": [
       "['there', 'shashank', 'friend']"
      ]
     },
     "execution_count": 14,
     "metadata": {},
     "output_type": "execute_result"
    }
   ],
   "source": [
    "def filter_long_words(arr,num):\n",
    "    new_arr=[]\n",
    "    for i in arr:\n",
    "        if len(i)>num:\n",
    "            new_arr.append(i)\n",
    "    return new_arr\n",
    "word_array=list(input(\"Enter your words:- \").split())\n",
    "num=int(input(\"Enter the length of the words you want:-\"))\n",
    "result_array=filter_long_words(word_array,num)\n",
    "result_array"
   ]
  },
  {
   "cell_type": "markdown",
   "metadata": {},
   "source": [
    "##### 2.1)"
   ]
  },
  {
   "cell_type": "code",
   "execution_count": 15,
   "metadata": {},
   "outputs": [
    {
     "name": "stdout",
     "output_type": "stream",
     "text": [
      "Enter your words:- hii i am from greater noida\n"
     ]
    },
    {
     "data": {
      "text/plain": [
       "[3, 1, 2, 4, 7, 5]"
      ]
     },
     "execution_count": 15,
     "metadata": {},
     "output_type": "execute_result"
    }
   ],
   "source": [
    "def myfun(arr):\n",
    "    new_list=[]\n",
    "    for i in arr:\n",
    "        new_list.append(len(i))\n",
    "    return new_list\n",
    "arr=input(\"Enter your words:- \").split()\n",
    "result=myfun(arr)\n",
    "result"
   ]
  },
  {
   "cell_type": "markdown",
   "metadata": {},
   "source": [
    "##### 2.2)"
   ]
  },
  {
   "cell_type": "code",
   "execution_count": 23,
   "metadata": {},
   "outputs": [
    {
     "name": "stdout",
     "output_type": "stream",
     "text": [
      "Enter the charactere\n"
     ]
    },
    {
     "data": {
      "text/plain": [
       "True"
      ]
     },
     "execution_count": 23,
     "metadata": {},
     "output_type": "execute_result"
    }
   ],
   "source": [
    "def check_character(arr):\n",
    "    if arr in ('a','e','i','o','u'):\n",
    "        return True\n",
    "    else:\n",
    "        return False\n",
    "arr=input(\"Enter the character\")\n",
    "result=check_character(arr)\n",
    "result"
   ]
  }
 ],
 "metadata": {
  "kernelspec": {
   "display_name": "Python 3",
   "language": "python",
   "name": "python3"
  },
  "language_info": {
   "codemirror_mode": {
    "name": "ipython",
    "version": 3
   },
   "file_extension": ".py",
   "mimetype": "text/x-python",
   "name": "python",
   "nbconvert_exporter": "python",
   "pygments_lexer": "ipython3",
   "version": "3.7.4"
  }
 },
 "nbformat": 4,
 "nbformat_minor": 2
}
