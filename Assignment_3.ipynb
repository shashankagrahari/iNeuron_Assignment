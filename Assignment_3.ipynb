{
 "cells": [
  {
   "cell_type": "markdown",
   "metadata": {},
   "source": [
    "# Task 1: \n",
    " "
   ]
  },
  {
   "cell_type": "markdown",
   "metadata": {},
   "source": [
    "##### 1. Write a function to compute 5/0 and use try/except to catch the exceptions. "
   ]
  },
  {
   "cell_type": "code",
   "execution_count": 7,
   "metadata": {},
   "outputs": [
    {
     "name": "stdout",
     "output_type": "stream",
     "text": [
      "Number can not be divided by zero\n"
     ]
    }
   ],
   "source": [
    "def dividing(a,b):\n",
    "    try:\n",
    "        result=a//b\n",
    "        print(\"The answer is:- \",result)\n",
    "    except ZeroDivisionError:\n",
    "        print(\"Number can not be divided by zero\")\n",
    "dividing(5,0)\n",
    "        "
   ]
  },
  {
   "cell_type": "markdown",
   "metadata": {},
   "source": [
    "##### 2.Implement a Python program to generate all sentences where subject is in [\"Americans\", \"Indians\"] and verb is in [\"Play\", \"watch\"] and the object is in [\"Baseball\",\"cricket\"]. "
   ]
  },
  {
   "cell_type": "code",
   "execution_count": 9,
   "metadata": {
    "scrolled": true
   },
   "outputs": [
    {
     "name": "stdout",
     "output_type": "stream",
     "text": [
      "Americans Play Baseball  \n",
      "Americans Play cricket  \n",
      "Americans watch Baseball  \n",
      "Americans watch cricket  \n",
      "Indians Play Baseball  \n",
      "Indians Play cricket  \n",
      "Indians watch Baseball  \n",
      "Indians watch cricket  \n"
     ]
    }
   ],
   "source": [
    "subjects=[\"Americans\", \"Indians\"]\n",
    "verbs=[\"Play\", \"watch\"] \n",
    "objects=[\"Baseball\",\"cricket\"]\n",
    "for i in subjects:\n",
    "    for j in verbs:\n",
    "        for k in objects:\n",
    "            print(\"{} {} {}  \".format(i,j,k))"
   ]
  },
  {
   "cell_type": "markdown",
   "metadata": {},
   "source": [
    "# Task 2: "
   ]
  },
  {
   "cell_type": "markdown",
   "metadata": {},
   "source": [
    "Que.1 Write a function so that the columns of the output matrix are powers of the input vector.The order of the powers is determined by the increasing boolean argument. Specifically, when increasing is False, the i-th output column is the input vector raised element-wise to the power of N - i - 1.  \n",
    " "
   ]
  },
  {
   "cell_type": "code",
   "execution_count": 28,
   "metadata": {},
   "outputs": [
    {
     "name": "stdout",
     "output_type": "stream",
     "text": [
      "Enter the series:- 2 3 4 5\n",
      "[[  1   2   4   8]\n",
      " [  1   3   9  27]\n",
      " [  1   4  16  64]\n",
      " [  1   5  25 125]]\n",
      "----------------------------------------\n",
      "[[  8   4   2   1]\n",
      " [ 27   9   3   1]\n",
      " [ 64  16   4   1]\n",
      " [125  25   5   1]]\n"
     ]
    }
   ],
   "source": [
    "import numpy as np\n",
    "def alexfun(ser,inc=True):\n",
    "    n=len(ser)\n",
    "    list1=list()\n",
    "    if inc==True:\n",
    "        for i in range(0,n):\n",
    "            for j in range(0,n):\n",
    "                list1.append(ser[i]**j)\n",
    "    else:\n",
    "        for i in range(0,n):\n",
    "            for j in range(n-1,-1,-1):\n",
    "                list1.append(ser[i]**j)\n",
    "    list1=np.asanyarray(list1)          \n",
    "    arr=np.array([list1]).reshape(n,n)\n",
    "    return arr\n",
    "ser=list(map(int,input(\"Enter the series:- \").split()))\n",
    "result=alexfun(ser)\n",
    "print(result)\n",
    "newresult=alexfun(ser,False)\n",
    "print(\"-\"*40)\n",
    "print(newresult)"
   ]
  }
 ],
 "metadata": {
  "kernelspec": {
   "display_name": "Python 3",
   "language": "python",
   "name": "python3"
  },
  "language_info": {
   "codemirror_mode": {
    "name": "ipython",
    "version": 3
   },
   "file_extension": ".py",
   "mimetype": "text/x-python",
   "name": "python",
   "nbconvert_exporter": "python",
   "pygments_lexer": "ipython3",
   "version": "3.7.4"
  }
 },
 "nbformat": 4,
 "nbformat_minor": 2
}
